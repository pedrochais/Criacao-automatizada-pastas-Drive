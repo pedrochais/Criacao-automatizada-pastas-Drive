{
 "cells": [
  {
   "cell_type": "markdown",
   "metadata": {},
   "source": [
    "Importação de bibliotecas e inicialização de variáveis"
   ]
  },
  {
   "cell_type": "code",
   "execution_count": null,
   "metadata": {},
   "outputs": [],
   "source": [
    "import csv\n",
    "import os\n",
    "import shutil\n",
    "import re\n",
    "from types import NoneType\n",
    "\n",
    "falhas = []"
   ]
  },
  {
   "cell_type": "markdown",
   "metadata": {},
   "source": [
    "Ler arquivo, organizar dados num dicionário e adicioná-los em uma lista"
   ]
  },
  {
   "cell_type": "code",
   "execution_count": null,
   "metadata": {},
   "outputs": [],
   "source": [
    "with open('./estavel/data.csv', 'r', encoding='utf8') as file:\n",
    "    csv = csv.reader(file)\n",
    "    for line in csv:\n",
    "        if line[3] == 'Ativo' and line[5] == 'Falhou':\n",
    "            \n",
    "            informacoes = line[7].split(\"\\n#split#\\n\")\n",
    "            \n",
    "            # Insere string com o código do caso de teste e nome\n",
    "            \n",
    "            # NOTA: Todas as descrições devem estar no formato \n",
    "            # resumo\n",
    "            # #split#\n",
    "            # passos\n",
    "            # #split#\n",
    "            # correção\n",
    "            # #split#\n",
    "            # lista de telas\n",
    "            falha = {\n",
    "                'id' : line[1],\n",
    "                'titulo' : line[2],\n",
    "                'resumo' : informacoes[0],\n",
    "                'passos' : informacoes[1],\n",
    "                'sugestao' : informacoes[2],\n",
    "                'telas' : informacoes[3]\n",
    "            }\n",
    "\n",
    "            falhas.append(falha)\n",
    "            \n",
    "print(\"Quantidade total de falhas encontradas: \", len(falhas))"
   ]
  },
  {
   "cell_type": "markdown",
   "metadata": {},
   "source": [
    "Criar diretórios para cada falha"
   ]
  },
  {
   "cell_type": "code",
   "execution_count": null,
   "metadata": {},
   "outputs": [],
   "source": [
    "print(\"[Criando diretórios]\")\n",
    "for falha in falhas:\n",
    "    id = falha['id']\n",
    "    if not os.path.exists(f'Drive/{id}'):\n",
    "        os.makedirs(f'Drive/{id}')\n",
    "        os.makedirs(f'Drive/{id}/01 - Como Está')\n",
    "        os.makedirs(f'Drive/{id}/02 - Como Deveria Ser')"
   ]
  },
  {
   "cell_type": "markdown",
   "metadata": {},
   "source": [
    "Armazenar prints e telas em variáveis"
   ]
  },
  {
   "cell_type": "code",
   "execution_count": null,
   "metadata": {},
   "outputs": [],
   "source": [
    "print(\"[Recuperando lista de prints]\")\n",
    "prints = os.listdir(f'Automatização pastas/Prints')\n",
    "\n",
    "print(\"[Recuperando lista de telas]\")\n",
    "telas = os.listdir(f'Automatização pastas/Telas')"
   ]
  },
  {
   "cell_type": "markdown",
   "metadata": {},
   "source": [
    "Copiar prints para o diretório \"Como Está\""
   ]
  },
  {
   "cell_type": "code",
   "execution_count": null,
   "metadata": {},
   "outputs": [],
   "source": [
    "print(\"[Copiando prints para suas respectivas pastas]\")\n",
    "for falha in falhas:\n",
    "    for p in prints:\n",
    "        id = re.compile(r'M[0-9]{2}_UC[0-9]{2}_T[0-9]{2}').match(p)\n",
    "        if id.group() == falha['id']:\n",
    "            source = f'Automatização pastas/Prints/{p}'\n",
    "            destination = f\"Drive/{falha['id']}/01 - Como Está\"\n",
    "            shutil.copy(source, destination)"
   ]
  },
  {
   "cell_type": "markdown",
   "metadata": {},
   "source": [
    "Copiar telas para o diretório \"Como Deveria Ser\""
   ]
  },
  {
   "cell_type": "code",
   "execution_count": null,
   "metadata": {},
   "outputs": [],
   "source": [
    "print(\"[Copiando telas para as suas respectivas pastas]\")\n",
    "for falha in falhas:\n",
    "    lista_telas = falha['telas'].split(',')\n",
    "    for tela in lista_telas:\n",
    "        id = re.compile(r'[0-9]{2}_[0-9]{2}').match(tela)\n",
    "        try:\n",
    "            id_identificado = id.group()\n",
    "        except:\n",
    "            #print(\"Sem tela(s).\")\n",
    "            continue\n",
    "\n",
    "        for tela_imagem in telas:\n",
    "            if id_identificado in tela_imagem:\n",
    "                source = f'Automatização pastas/Telas/{tela_imagem}'\n",
    "                destination = f\"Drive/{falha['id']}/02 - Como Deveria Ser\"\n",
    "\n",
    "                shutil.copy(source, destination)"
   ]
  }
 ],
 "metadata": {
  "kernelspec": {
   "display_name": "Python 3.10.4 64-bit",
   "language": "python",
   "name": "python3"
  },
  "language_info": {
   "name": "python",
   "version": "3.10.4"
  },
  "orig_nbformat": 4,
  "vscode": {
   "interpreter": {
    "hash": "c3503f95e0e8f4afdf6702396a7a2a29cae9f67572acfe092405dcaa2579b817"
   }
  }
 },
 "nbformat": 4,
 "nbformat_minor": 2
}
